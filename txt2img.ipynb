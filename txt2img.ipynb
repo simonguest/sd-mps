{
 "cells": [
  {
   "cell_type": "code",
   "execution_count": null,
   "metadata": {},
   "outputs": [],
   "source": [
    "import torch\n",
    "from diffusers import DiffusionPipeline\n",
    "\n",
    "MODEL = \"stabilityai/stable-diffusion-xl-base-1.0\"\n",
    "# MODEL = \"stabilityai/sdxl-turbo\"\n",
    "SEED = 23484274\n",
    "\n",
    "pipe = DiffusionPipeline.from_pretrained(MODEL)\n",
    "pipe = pipe.to(\"mps\")\n",
    "\n",
    "#prompt = \"A teenage skateboarder, walking towards the camera down a city street, photo-realistic, sharp focus.\"\n",
    "#prompt = \"A space scene photo taken while standing on a remote planet, photo-realistic, sharp focus, cinematic lighting.\"\n",
    "#prompt = \"A television new studio desk and background, high color, photo-realistic.\"\n",
    "#prompt = \"A photo-realistic image of a white goldendoodle, with a sharp focus, and a blurred background.\"\n",
    "\n",
    "# obj = \"a violin\" # Software practice article\n",
    "# obj = \"document and quill pen\" # Technical doc article\n",
    "# obj = \"computer keyboard\" # Shortcut article\n",
    "# obj = \"pile of credit cards\" # Technical Debt article\n",
    "# obj = \"piggy bank sitting on coins\" # Repayment plans article\n",
    "obj = \"a circle, square, and triangle\" # Shape of engineering team article\n",
    "\n",
    "# Isometric style\n",
    "# prompt = f\"isometric style {obj} . vibrant, beautiful, crisp, detailed, ultra detailed, intricate\"\n",
    "# negative_prompt = f\"deformed, mutated, ugly, disfigured, blur, blurry, noise, noisy, realistic, photographic\"\n",
    "\n",
    "# Line art style\n",
    "# prompt = f\"line art drawing {obj} . professional, sleek, modern, minimalist, graphic, line art, vector graphics\"\n",
    "# negative_prompt = f\"anime, photorealistic, 35mm film, deformed, glitch, blurry, noisy, off-center, deformed, cross-eyed, closed eyes, bad anatomy, ugly, disfigured, mutated, realism, realistic, impressionism, expressionism, oil, acrylic\"\n",
    "\n",
    "# Pixel art style\n",
    "# prompt = f\"pixel-art {obj} . low-res, blocky, pixel art style, 8-bit graphics\"\n",
    "#negative_prompt = \"sloppy, messy, blurry, noisy, highly detailed, ultra textured, photo, realistic\"\n",
    "\n",
    "# Architecture style\n",
    "#prompt = f\"architectural style {obj} . clean lines, geometric shapes, minimalist, modern, architectural drawing, highly detailed\"\n",
    "#negative_prompt = \"curved lines, ornate, baroque, abstract, grunge\"\n",
    "\n",
    "# Minimalist style\n",
    "# prompt = f\"minimalist style {obj} . simple, clean, uncluttered, modern, elegant\"\n",
    "# negative_prompt = \"ornate, complicated, highly detailed, cluttered, disordered, messy, noisy\"\n",
    "\n",
    "# Papercut style\n",
    "prompt = f\"flat papercut style {obj} . silhouette, clean cuts, paper, sharp edges, minimalist, color block\"\n",
    "negative_prompt = \"3D, high detail, noise, grainy, blurry, painting, drawing, photo, disfigured\"\n",
    "\n",
    "# Tilt shift style\n",
    "# prompt = f\"tilt-shift photo of {prompt} . selective focus, miniature effect, blurred background, highly detailed, vibrant, perspective control\"\n",
    "# negative_prompt = \"blurry, noisy, deformed, flat, low contrast, unrealistic, oversaturated, underexposed\" \n",
    "\n",
    "generator = [torch.Generator(device=\"mps\").manual_seed(SEED)]\n",
    "image = pipe(prompt=prompt, negative_prompt=negative_prompt, num_images_per_prompt=1, generator=generator).images[0]\n",
    "image"
   ]
  }
 ],
 "metadata": {
  "kernelspec": {
   "display_name": "sd-mps",
   "language": "python",
   "name": "python3"
  },
  "language_info": {
   "codemirror_mode": {
    "name": "ipython",
    "version": 3
   },
   "file_extension": ".py",
   "mimetype": "text/x-python",
   "name": "python",
   "nbconvert_exporter": "python",
   "pygments_lexer": "ipython3",
   "version": "3.11.4"
  },
  "orig_nbformat": 4
 },
 "nbformat": 4,
 "nbformat_minor": 2
}
