{
 "cells": [
  {
   "cell_type": "code",
   "outputs": [],
   "source": [
    "import gradio as gr\n",
    "import modin.pandas as pd\n",
    "import torch\n",
    "import numpy as np\n",
    "from PIL import Image\n",
    "from diffusers import AutoPipelineForImage2Image\n",
    "from diffusers.utils import load_image\n",
    "import math\n",
    "\n",
    "device = \"mps\"\n",
    "pipe = AutoPipelineForImage2Image.from_pretrained(\"stabilityai/sdxl-turbo\")\n",
    "pipe = pipe.to(device)\n",
    "\n",
    "source_image = load_image(\"./images/mountain_scene.png\")\n",
    "source_image.resize((512, 512))\n"
   ],
   "metadata": {
    "collapsed": false
   },
   "id": "c6cae35644d297d9",
   "execution_count": null
  },
  {
   "cell_type": "code",
   "outputs": [],
   "source": [
    "prompt = \"drawing of mountain scene with lakes, clear day, dramatic lighting\"\n",
    "strength = 0.7\n",
    "steps = 200\n",
    "\n",
    "image = pipe(prompt, image=source_image, strength=strength, guidance_scale=0.0, num_inference_steps=steps).images[0]\n",
    "image"
   ],
   "metadata": {
    "collapsed": false
   },
   "id": "e22439759e820efe",
   "execution_count": null
  }
 ],
 "metadata": {
  "kernelspec": {
   "display_name": "Python 3",
   "language": "python",
   "name": "python3"
  },
  "language_info": {
   "codemirror_mode": {
    "name": "ipython",
    "version": 2
   },
   "file_extension": ".py",
   "mimetype": "text/x-python",
   "name": "python",
   "nbconvert_exporter": "python",
   "pygments_lexer": "ipython2",
   "version": "2.7.6"
  }
 },
 "nbformat": 4,
 "nbformat_minor": 5
}
